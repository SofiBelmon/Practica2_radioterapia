{
  "cells": [
    {
      "cell_type": "markdown",
      "metadata": {
        "id": "0qVXbexS0BMi"
      },
      "source": [
        "\n",
        "### Física de la radioterapia\n",
        "#### Máster de Física Biomédica. Universidad Complutense de Madrid\n",
        "---\n",
        "# **Problema**: Modelo de doble fuente en un acelerador lineal\n",
        "\n",
        "#### Introducción\n",
        "Para calcular la dosis debida a la radiación producida por un acelerador lineal, los algoritmos de cálculo necesitan conocer cómo varía la fluencia con el tamaño de campo.\n",
        "\n",
        "En la práctica uno de los factores requeridos para este cálculo es el denominado factor de campo en minimaniquí $OF_0$, que se define como la lectura de una cámara de ionización colocada en el eje del campo en relación a la lectura obtenida para un campo de referencia.\n",
        "\n",
        "Para evitar problemas de falta de equilibrio y contaminación electrónica, la cámara se coloca en el interior de un minimaniquí, que no introduce una contribución apreciable de radiación dispersada en el propio maniquí.\n",
        "\n",
        "\n"
      ]
    },
    {
      "cell_type": "markdown",
      "metadata": {
        "id": "RdR7K6v-6RsO"
      },
      "source": [
        "![Minimaniqui](https://drive.google.com/uc?id=14lGSvTekc8koyu_VzazMfNFh5iyC-CV9)"
      ]
    },
    {
      "cell_type": "markdown",
      "metadata": {
        "id": "quEH3J15-kvj"
      },
      "source": [
        "Aunque en condiciones ideales podríamos suponer que toda la radiación que incide sobre la cámara proviene de una fuente puntual, un foco de radiación formado en el lugar del blanco en el que son frenados los electrones, en la práctica se tiene que este foco no es puntual y que hay una contribución no despreciable de fotones que se han dispersado en los elementos del cabezal: colimador primario, filtro aplanador, cámaras monitoras y colimadores (mandíbulas y MLC).\n",
        "\n",
        "Los sistemas de cálculo modelan el problema asumiendo la presencia de dos fuentes: una primaria, de mayor intensidad que se asocia a la emisión desde el blanco, y otra secundaria, menos intensa aunque de mayor extensión espacial, que modela la radiación que se ha dispersado en el cabezal.\n",
        "\n"
      ]
    },
    {
      "cell_type": "markdown",
      "metadata": {
        "id": "qb3jzFJ5UXsT"
      },
      "source": [
        "<img src=\"https://drive.google.com/uc?id=1Os3ZS6JrYbnENEu2WP__XA3XLJYRHTQL\" width=\"700\" />"
      ]
    },
    {
      "cell_type": "markdown",
      "metadata": {
        "id": "OwxakUrqSQk3"
      },
      "source": [
        "En este cuaderno desarrollaremos un modelo simplificado de doble fuente que nos permitirá explicar la forma de la curva de $OF_0$.\n",
        "\n",
        "La distribución espacial de la intensidad de cada fuente según se observa en el punto de medida se describirá mediante una función con simetría cilíndrica de perfil gaussiano dependiente de dos parámetros $a$, $b$\n",
        "\n",
        "\\begin{equation}\n",
        "    I(r) = a \\cdot e^{-r^2/b}\n",
        "\\end{equation}\n",
        "\n",
        "Durante el comisionado del acelerador, para medir $OF_0$ se retira el MLC y se varían las posiciones de las mandíbulas $X, Y$, generándose campos cuadrados y rectangulares.\n",
        "\n",
        "Para sacar partido a la simetría cilíndrica de la fuente convendría utilizar campos circulares. Existen relaciones empíricas que relacionan los rendimientos en profundidad de campos circulares, cuadrados y rectangulares. Según estas un campo cuadrado es equivalente a un campo circular si ambos tienen la misma área y un campo rectangular es equivalente a uno cuadrado si ambos tienen la misma relación área perímetro. Si estas relaciones fueran aplicables también para $OF_0$, combinándolas se podría determinar el campo circular equivalente de cualquier campo cuadrado o rectangular.\n",
        "\n",
        "### Objetivos\n",
        "- Estudiar si las relaciones de equivalencia entre campos cuadrados y campos circulares y entre campos rectangulares y campos cuadrados son aplicables al factor de campo en aire $OF_0$ si la distribución espacial de la fluencia es de perfil gaussiano.\n",
        "- Mostrar que no es posible ajustar las medidas de $OF_0$ mediante un modelo de una única fuente.\n",
        "- Ajustar un modelo de doble fuente utilizando las medidas de $OF_0$ en campos cuadrados."
      ]
    },
    {
      "cell_type": "code",
      "execution_count": 1,
      "metadata": {
        "id": "3p2oqr8masy3",
        "colab": {
          "base_uri": "https://localhost:8080/"
        },
        "outputId": "0a79d116-7024-4aa5-b2c0-e6888dc3ae5c"
      },
      "outputs": [
        {
          "output_type": "stream",
          "name": "stdout",
          "text": [
            "\u001b[2K   \u001b[90m━━━━━━━━━━━━━━━━━━━━━━━━━━━━━━━━━━━━━━━━\u001b[0m \u001b[32m100.2/100.2 kB\u001b[0m \u001b[31m1.6 MB/s\u001b[0m eta \u001b[36m0:00:00\u001b[0m\n",
            "\u001b[2K   \u001b[90m━━━━━━━━━━━━━━━━━━━━━━━━━━━━━━━━━━━━━━━━\u001b[0m \u001b[32m119.7/119.7 kB\u001b[0m \u001b[31m5.5 MB/s\u001b[0m eta \u001b[36m0:00:00\u001b[0m\n",
            "\u001b[2K   \u001b[90m━━━━━━━━━━━━━━━━━━━━━━━━━━━━━━━━━━━━━━━━\u001b[0m \u001b[32m60.1/60.1 kB\u001b[0m \u001b[31m1.2 MB/s\u001b[0m eta \u001b[36m0:00:00\u001b[0m\n",
            "\u001b[?25h"
          ]
        }
      ],
      "source": [
        "# Instalar paquetes no incluidos por defecto en Colab\n",
        "# Ajustes no lineales mediante el algoritmo de Levenberg-Marquardt\n",
        "!pip -q install lmfit\n",
        "# Lectura de archivos Excel\n",
        "!pip install -q openpyxl\n",
        "\n",
        "# Importación de módulos y funciones\n",
        "import gdown\n",
        "import numpy as np\n",
        "from scipy.special import erf\n",
        "from scipy.interpolate import interp1d\n",
        "import matplotlib as mpl\n",
        "from matplotlib import pyplot as plt\n",
        "%matplotlib inline\n",
        "import pandas as pd\n",
        "from lmfit import Model"
      ]
    },
    {
      "cell_type": "markdown",
      "metadata": {
        "id": "hiDa_JBcQ8H5"
      },
      "source": [
        "### Cuestión\n",
        "Considerando una única fuente comprobar la validez de la aproximación empírica que dice que un campo cuadrado y un campo circular tienen el mismo factor de campo si ambos tienen la misma área.\n",
        "\n",
        "### Solución\n",
        "El factor de campo es independiente de la intensidad absoluta de la fuente y por tanto es independiente de $a$.\n",
        "\n",
        "El factor de campo es proporcional a la integral de la intensidad de la fuente. Para campos circulares\n",
        "\n",
        "$$\n",
        "  OF_0(R) \\propto \\int_0^{2\\pi}\\int_0^R r \\cdot e^{-r^2/b} dr d\\theta = b\\pi\\left( 1-e^{-R^2/b} \\right)\n",
        "$$\n",
        "\n",
        "Para campos cuadrados\n",
        "\n",
        "$$\n",
        "  OF_0(X) \\propto \\int_0^X \\int_0^Xe^{-(x^2+y^2)/b} dx dy = \\left(\\int_0^X e^{-x^2/b}\n",
        "   dx \\right)^2 = \\frac{b\\pi}{4} \\operatorname{erf}^2\\left(\\frac{X}{\\sqrt{b}}\\right)\n",
        "$$\n",
        "\n",
        "donde $X$ corresponde al hemicampo, lo que se desplaza cada mordaza desde el origen. El lado del campo cuadrado sería $L=2X$ y por tanto la relación de equivalencia entre campos cuadrados y circulares por igualdad de área implica la siguiente relación entre $X$ y $R$\n",
        "\n",
        "$$\n",
        "  4X^2 = \\pi R^2\n",
        "$$\n",
        "\n",
        "$$\n",
        "  X = \\frac{\\sqrt{\\pi}}{2} R \\approx 0.886 R\n",
        "$$\n",
        "\n",
        "Implementamos las funciones para el cálculo del factor de campo. Como el factor de campo es una medida relativa podemos eliminar las constantes de proporcionalidad, solo nos interesa la dependencia con el tamaño de campo. El parámetro $b$ por su parte, actúa como un factor de escala del tamaño de la fuente y del tamaño de los campos. Determina para qué tamaños de campo se produce el crecimiento del factor de campo hasta la saturación, pero tampoco es relevante para esta discusión. Lo fijamos en $b=1$."
      ]
    },
    {
      "cell_type": "code",
      "execution_count": 2,
      "metadata": {
        "id": "0iOrqQr8zJ8W"
      },
      "outputs": [],
      "source": [
        "def OF_0_circ(R, b=1):\n",
        "  '''\n",
        "  Factor de campo en aire para campos circulares\n",
        "  Parámetros:\n",
        "    R: Radio del campo circular\n",
        "    b: Parámetro que regula el tamaño de la fuente\n",
        "  '''\n",
        "  return 1 - np.exp(-R**2/b)\n",
        "\n",
        "def OF_0_sq(X, b=1):\n",
        "  '''\n",
        "  Factor de campo en aire para campos cuadrados\n",
        "  Parámetros:\n",
        "    X: Tamaño del campo cuadrado\n",
        "    b: Parámetro que regula el tamaño de la fuente\n",
        "  '''\n",
        "  return erf(X/np.sqrt(b))**2"
      ]
    },
    {
      "cell_type": "markdown",
      "metadata": {
        "id": "h9wrBu1KJwAm"
      },
      "source": [
        "Muestreamos y representamos los dos factores de campo.\n",
        "\n",
        "Para comprobar la equivalencia tenemos que elegir campos con la misma área"
      ]
    },
    {
      "cell_type": "code",
      "execution_count": 3,
      "metadata": {
        "id": "kNYGXqn6WKd2",
        "colab": {
          "base_uri": "https://localhost:8080/",
          "height": 428
        },
        "outputId": "7e99d0a3-13d7-44c7-9482-8ba5cce66d75"
      },
      "outputs": [
        {
          "output_type": "display_data",
          "data": {
            "text/plain": [
              "<Figure size 900x450 with 3 Axes>"
            ],
            "image/png": "[encoded data removed]"
          },
          "metadata": {}
        }
      ],
      "source": [
        "# Muestra de radios\n",
        "Rs = np.linspace(0.4, 3, 50)\n",
        "\n",
        "# Muestra de campos cuadrados\n",
        "Xs = np.linspace(0.4, 3, 50)\n",
        "\n",
        "# Factor de equivalencia entre R (campos circulares) y X (campos cuadrados)\n",
        "Feq = np.sqrt(np.pi)/2\n",
        "\n",
        "# Representar\n",
        "fig, (axl, axr) = plt.subplots(nrows=1, ncols=2, figsize=(9, 4.5))\n",
        "# En el gráfico de la izquierda representamos los factores de campo en función\n",
        "# de sus dimensiones naturales\n",
        "axl.plot(Rs, OF_0_circ(Rs), 'k-', label='C. circulares')\n",
        "axl.plot(Xs, OF_0_sq(Xs), 'k--', label='C. cuadrados')\n",
        "axl.set_xlabel('$R, X$')\n",
        "axl.set_ylabel(r'$OF_0$')\n",
        "axl.legend()\n",
        "# En el gráfico de la derecha escalamos el hemicampo cuadrado a su equivalente\n",
        "# circular\n",
        "axr.plot(Rs, OF_0_circ(Rs), 'k-', label='C. circulares')\n",
        "axr.plot(Rs, OF_0_sq(Rs*Feq), 'k--', label='C. cuadrados')\n",
        "axr.set_xlabel('$R$')\n",
        "axr.set_ylabel(r'$OF_0$')\n",
        "# Añadimos un gráfico para representar el error relativo de la aproximación\n",
        "axrt = axr.twinx()\n",
        "\n",
        "axrt.plot(Rs, (OF_0_circ(Rs) / OF_0_sq(Rs*Feq)-1)*100, 'k-.')\n",
        "axrt.set_ylabel(r'Error relativo [\\%]')\n",
        "# axrt.set_ylim(0.998, 1.02)\n",
        "\n",
        "plt.show()"
      ]
    },
    {
      "cell_type": "markdown",
      "metadata": {
        "id": "6fzyiWEcseRV"
      },
      "source": [
        "En la gráfica de la izquierda hemos representado el factor de campo $OF_0$ según las expresiones analíticas calculadas de la integral de la fluencia gaussiana para campos circulares en función del radio $R$ y para campos cuadrados en función del hemicampo $X$.\n",
        "\n",
        "Para comprobar la equivalencia de los campos hemos representado en la gráfica de la derecha ambos factores de campo en función del radio $R$ escalando para los campos cuadrados el valor del hemicampo $X$ por la expresión que se deriva de la igualdad de áreas.\n",
        "\n",
        "El error relativo entre ambos factores de campo es del orden del 1%, concluyéndose que la aproximación es razonablemente ajustada.\n",
        "\n",
        "### Cuestión\n",
        "\n",
        "Considerando una única fuente comprobar la validez de la aproximación empírica que dice que un campo cuadrado y un campo rectangular tienen el mismo factor de campo si ambos tienen la misma relación área perímetro.\n",
        "\n",
        "### Solución\n",
        "\n",
        "Para campos rectangulares\n",
        "\n",
        "$$\n",
        "  OF_0(X, Y) \\propto \\int_0^Y \\int_0^Xe^{-(x^2+y^2)/b} dx dy = \\left(\\int_0^X e^{-x^2/b}\n",
        "  dx \\right)\\cdot \\left(\\int_0^Y e^{-y^2/b}\n",
        "  dy \\right)= \\frac{b\\pi}{4} \\operatorname{erf}\\left(\\frac{X}{\\sqrt{b}}\\right)\\cdot\\operatorname{erf}\\left(\\frac{Y}{\\sqrt{b}}\\right)\n",
        "$$\n",
        "\n",
        "donde $X, Y$ corresponden al hemicampo, lo que se desplaza cada mordaza desde el origen.\n",
        "\n",
        "De la igualdad de la relación área perímetro podemos determinar el valor del hemicampo $X_c$ del campo cuadrado equivalente al campo rectangular con hemicampos $X, Y$\n",
        "\n",
        "$$\n",
        "  X_c = \\frac{2\\cdot X\\cdot Y}{X+Y}\n",
        "$$\n",
        "\n",
        "Por tanto lo que queremos comprobar es si\n",
        "\n",
        "$$\n",
        "  \\operatorname{erf}\\left(\\frac{X}{\\sqrt{b}}\\right)\\cdot\\operatorname{erf}\\left(\\frac{Y}{\\sqrt{b}}\\right) = \\operatorname{erf}^2\\left(\\frac{2\\cdot X\\cdot Y}{\\sqrt{b}\\cdot(X+Y)}\\right)\n",
        "$$\n",
        "\n",
        "Lo mismo que antes, el resultado no depende del valor de $b$ y lo igualaremos a 1.\n",
        "\n",
        "Implementamos la función de $OF_0$ para campos rectangulares y comparamos el resultado con su campo cuadrado equivalente"
      ]
    },
    {
      "cell_type": "code",
      "execution_count": 4,
      "metadata": {
        "id": "yuLN2im7eoia"
      },
      "outputs": [],
      "source": [
        "def OF_0_rect(X, Y, b=1):\n",
        "  '''\n",
        "  Factor de campo en aire para campos cuadrados\n",
        "  Parámetros:\n",
        "    X: Mordaza X del hemicampo del campo rectangular\n",
        "    Y: Mordaza Y del hemicampo del campo rectangular\n",
        "    b: Parámetro que regula el tamaño de la fuente\n",
        "  '''\n",
        "  return erf(X/np.sqrt(b))*erf(Y/np.sqrt(b))\n",
        "\n",
        "def X_c(X, Y):\n",
        "  '''\n",
        "  Tamaño del campo cuadrado equivalente para campos rectangulares\n",
        "  Parámetros:\n",
        "    X: Mordaza X del hemicampo del campo rectangular\n",
        "    Y: Mordaza Y del hemicampo del campo rectangular\n",
        "  '''\n",
        "  return 2*X*Y/(X+Y)"
      ]
    },
    {
      "cell_type": "code",
      "execution_count": 5,
      "metadata": {
        "id": "jwlVx8SwfZrq",
        "colab": {
          "base_uri": "https://localhost:8080/",
          "height": 426
        },
        "outputId": "c6b0a4ce-a9ce-42ff-a865-c2016dda44b5"
      },
      "outputs": [
        {
          "output_type": "display_data",
          "data": {
            "text/plain": [
              "<Figure size 450x450 with 1 Axes>"
            ],
            "image/png": "[encoded data removed]"
          },
          "metadata": {}
        }
      ],
      "source": [
        "# Muestras de los hemicampos para campos rectangulares\n",
        "Ys = np.array([2])\n",
        "Xs = np.linspace(0.4, 3, 50)\n",
        "\n",
        "# Hemicampos de los campos cuadrados equivalentes\n",
        "Xcs = X_c(Xs, Ys)\n",
        "\n",
        "# Representar\n",
        "fig, (axl) = plt.subplots(nrows=1, ncols=1, figsize=(4.5, 4.5))\n",
        "# En el gráfico de la izquierda representamos los factores de campo en función\n",
        "# de sus dimensiones naturales\n",
        "axl.plot(Xs, OF_0_rect(Xs, Ys), 'k-', label='C. rectangulares')\n",
        "axl.plot(Xs, OF_0_sq(Xcs), 'k--', label='C. cuadrados equivalentes')\n",
        "axl.set_xlabel(r'$X$')\n",
        "axl.set_ylabel(r'$OF_0$')\n",
        "axl.legend()\n",
        "\n",
        "plt.show()"
      ]
    },
    {
      "cell_type": "markdown",
      "metadata": {
        "id": "MxgrBjvSMfAG"
      },
      "source": [
        "Las curvas anteriores muestran que la equivalencia a campos cuadrados para campos rectangulares basada en mantener la relación área perímetro no es válida.\n",
        "\n",
        "Podemos dudar si esto se debe a que el modelo de fuente de perfil gaussiano no describe adecuadamente la fuente real.\n",
        "\n",
        "### Cuestión\n",
        "\n",
        "Utilizar los datos reales medidos en un acelerador Varian True Beam para mostrar que la aproximación no es suficientemente buena.\n",
        "\n",
        "#### Ayuda\n",
        "Crear una función de interpolación de los factores de campo cuadrados para calcular el factor de campo del campo equivalente de cada campo rectangular. Comparar con los valores medidos."
      ]
    },
    {
      "cell_type": "code",
      "execution_count": 6,
      "metadata": {
        "id": "Q7_VzDSV2nZy",
        "colab": {
          "base_uri": "https://localhost:8080/",
          "height": 105
        },
        "outputId": "3dc08fc4-ba9f-4bce-f90c-662d551e828c"
      },
      "outputs": [
        {
          "output_type": "stream",
          "name": "stderr",
          "text": [
            "Downloading...\n",
            "From: https://drive.google.com/uc?id=1QbmB_WbXYd6QOaaEedfRSQoyp21ZNRf6\n",
            "To: /content/AirOutputFactors.xlsx\n",
            "100%|██████████| 32.7k/32.7k [00:00<00:00, 36.8MB/s]\n"
          ]
        },
        {
          "output_type": "execute_result",
          "data": {
            "text/plain": [
              "'./AirOutputFactors.xlsx'"
            ],
            "application/vnd.google.colaboratory.intrinsic+json": {
              "type": "string"
            }
          },
          "metadata": {},
          "execution_count": 6
        }
      ],
      "source": [
        "# Descargar los datos compartidos de Google Drive\n",
        "url = 'https://docs.google.com/uc?id=1QbmB_WbXYd6QOaaEedfRSQoyp21ZNRf6'\n",
        "#\n",
        "output = './AirOutputFactors.xlsx'\n",
        "gdown.download(url, output, quiet=False, fuzzy=True)"
      ]
    },
    {
      "cell_type": "code",
      "execution_count": 7,
      "metadata": {
        "id": "M-5UgaYDsIqP",
        "colab": {
          "base_uri": "https://localhost:8080/",
          "height": 426
        },
        "outputId": "3877de37-584d-4b31-f1bb-d07090b79c3f"
      },
      "outputs": [
        {
          "output_type": "display_data",
          "data": {
            "text/plain": [
              "<Figure size 450x450 with 1 Axes>"
            ],
            "image/png": "[encoded data removed]"
          },
          "metadata": {}
        }
      ],
      "source": [
        "# Leer los datos de los factores de campo para la energía de 6 MV\n",
        "OF_0_6X_df = pd.read_excel('AirOutputFactors.xlsx', sheet_name='6MV', skiprows=36, engine='openpyxl')\n",
        "# Extraer los factores de campo para campos cuadrados\n",
        "OF_0_6X_sqs = np.diag(OF_0_6X_df[OF_0_6X_df.columns[1:]])\n",
        "# Tamaños de campo cuadrados\n",
        "Xs = np.array(OF_0_6X_df.Y)\n",
        "\n",
        "# Representamos gráficamente\n",
        "fig, ax = plt.subplots(figsize=(4.5, 4.5))\n",
        "ax.plot(Xs, OF_0_6X_sqs, 'k.-')\n",
        "ax.set_xlabel(r'$X$')\n",
        "ax.set_ylabel(r'$OF_0$')\n",
        "\n",
        "plt.show()"
      ]
    },
    {
      "cell_type": "code",
      "source": [
        "# Renombrar las columnas para que coincidan con el código\n",
        "OF_0_6X_df = OF_0_6X_df.rename(columns={'X2': 'X', 'X3': 'X', 'X5': 'X', 'X7': 'X', 'X10': 'X', 'X15': 'X', 'X20': 'X', 'X30': 'X', 'X40': 'X'})"
      ],
      "metadata": {
        "id": "PB6WmW3oIQN0"
      },
      "execution_count": 18,
      "outputs": []
    },
    {
      "cell_type": "code",
      "source": [
        "# Cargar datos (esto ya lo tienes en tu código)\n",
        "OF_0_6X_df = pd.read_excel('AirOutputFactors.xlsx', sheet_name='6MV', skiprows=36, engine='openpyxl')\n",
        "\n",
        "# Renombrar las columnas para que coincidan con las referencias 'X' y 'Y'\n",
        "OF_0_6X_df = OF_0_6X_df.rename(columns={'X2': 'X', 'X3': 'X', 'X5': 'X', 'X7': 'X', 'X10': 'X',\n",
        "                                          'X15': 'X', 'X20': 'X', 'X30': 'X', 'X40': 'X'})\n",
        "\n",
        "# Ahora ya puedes usar las columnas 'X' y 'Y' en el resto del código\n",
        "rect_data = OF_0_6X_df[OF_0_6X_df['X'] != OF_0_6X_df['Y']]\n",
        "\n",
        "# Recoger los valores de X, Y, y OF_0 de las columnas renombradas\n",
        "X_vals = np.array(OF_0_6X_df['X'])\n",
        "Y_vals = np.array(OF_0_6X_df['Y'])\n",
        "OF_0_real = np.array(rect_data['OF_0'])\n",
        "\n",
        "# Continuar con el resto del código...\n"
      ],
      "metadata": {
        "colab": {
          "base_uri": "https://localhost:8080/",
          "height": 356
        },
        "id": "GJ4W4xxvIi30",
        "outputId": "e9a97e39-8bd4-4c6c-c14a-961509fab3f2"
      },
      "execution_count": 19,
      "outputs": [
        {
          "output_type": "error",
          "ename": "ValueError",
          "evalue": "Operands are not aligned. Do `left, right = left.align(right, axis=1, copy=False)` before operating.",
          "traceback": [
            "\u001b[0;31m---------------------------------------------------------------------------\u001b[0m",
            "\u001b[0;31mValueError\u001b[0m                                Traceback (most recent call last)",
            "\u001b[0;32m<ipython-input-19-41da11a1eb68>\u001b[0m in \u001b[0;36m<cell line: 0>\u001b[0;34m()\u001b[0m\n\u001b[1;32m      7\u001b[0m \u001b[0;34m\u001b[0m\u001b[0m\n\u001b[1;32m      8\u001b[0m \u001b[0;31m# Ahora ya puedes usar las columnas 'X' y 'Y' en el resto del código\u001b[0m\u001b[0;34m\u001b[0m\u001b[0;34m\u001b[0m\u001b[0m\n\u001b[0;32m----> 9\u001b[0;31m \u001b[0mrect_data\u001b[0m \u001b[0;34m=\u001b[0m \u001b[0mOF_0_6X_df\u001b[0m\u001b[0;34m[\u001b[0m\u001b[0mOF_0_6X_df\u001b[0m\u001b[0;34m[\u001b[0m\u001b[0;34m'X'\u001b[0m\u001b[0;34m]\u001b[0m \u001b[0;34m!=\u001b[0m \u001b[0mOF_0_6X_df\u001b[0m\u001b[0;34m[\u001b[0m\u001b[0;34m'Y'\u001b[0m\u001b[0;34m]\u001b[0m\u001b[0;34m]\u001b[0m\u001b[0;34m\u001b[0m\u001b[0;34m\u001b[0m\u001b[0m\n\u001b[0m\u001b[1;32m     10\u001b[0m \u001b[0;34m\u001b[0m\u001b[0m\n\u001b[1;32m     11\u001b[0m \u001b[0;31m# Recoger los valores de X, Y, y OF_0 de las columnas renombradas\u001b[0m\u001b[0;34m\u001b[0m\u001b[0;34m\u001b[0m\u001b[0m\n",
            "\u001b[0;32m/usr/local/lib/python3.11/dist-packages/pandas/core/ops/common.py\u001b[0m in \u001b[0;36mnew_method\u001b[0;34m(self, other)\u001b[0m\n\u001b[1;32m     74\u001b[0m         \u001b[0mother\u001b[0m \u001b[0;34m=\u001b[0m \u001b[0mitem_from_zerodim\u001b[0m\u001b[0;34m(\u001b[0m\u001b[0mother\u001b[0m\u001b[0;34m)\u001b[0m\u001b[0;34m\u001b[0m\u001b[0;34m\u001b[0m\u001b[0m\n\u001b[1;32m     75\u001b[0m \u001b[0;34m\u001b[0m\u001b[0m\n\u001b[0;32m---> 76\u001b[0;31m         \u001b[0;32mreturn\u001b[0m \u001b[0mmethod\u001b[0m\u001b[0;34m(\u001b[0m\u001b[0mself\u001b[0m\u001b[0;34m,\u001b[0m \u001b[0mother\u001b[0m\u001b[0;34m)\u001b[0m\u001b[0;34m\u001b[0m\u001b[0;34m\u001b[0m\u001b[0m\n\u001b[0m\u001b[1;32m     77\u001b[0m \u001b[0;34m\u001b[0m\u001b[0m\n\u001b[1;32m     78\u001b[0m     \u001b[0;32mreturn\u001b[0m \u001b[0mnew_method\u001b[0m\u001b[0;34m\u001b[0m\u001b[0;34m\u001b[0m\u001b[0m\n",
            "\u001b[0;32m/usr/local/lib/python3.11/dist-packages/pandas/core/arraylike.py\u001b[0m in \u001b[0;36m__ne__\u001b[0;34m(self, other)\u001b[0m\n\u001b[1;32m     42\u001b[0m     \u001b[0;34m@\u001b[0m\u001b[0munpack_zerodim_and_defer\u001b[0m\u001b[0;34m(\u001b[0m\u001b[0;34m\"__ne__\"\u001b[0m\u001b[0;34m)\u001b[0m\u001b[0;34m\u001b[0m\u001b[0;34m\u001b[0m\u001b[0m\n\u001b[1;32m     43\u001b[0m     \u001b[0;32mdef\u001b[0m \u001b[0m__ne__\u001b[0m\u001b[0;34m(\u001b[0m\u001b[0mself\u001b[0m\u001b[0;34m,\u001b[0m \u001b[0mother\u001b[0m\u001b[0;34m)\u001b[0m\u001b[0;34m:\u001b[0m\u001b[0;34m\u001b[0m\u001b[0;34m\u001b[0m\u001b[0m\n\u001b[0;32m---> 44\u001b[0;31m         \u001b[0;32mreturn\u001b[0m \u001b[0mself\u001b[0m\u001b[0;34m.\u001b[0m\u001b[0m_cmp_method\u001b[0m\u001b[0;34m(\u001b[0m\u001b[0mother\u001b[0m\u001b[0;34m,\u001b[0m \u001b[0moperator\u001b[0m\u001b[0;34m.\u001b[0m\u001b[0mne\u001b[0m\u001b[0;34m)\u001b[0m\u001b[0;34m\u001b[0m\u001b[0;34m\u001b[0m\u001b[0m\n\u001b[0m\u001b[1;32m     45\u001b[0m \u001b[0;34m\u001b[0m\u001b[0m\n\u001b[1;32m     46\u001b[0m     \u001b[0;34m@\u001b[0m\u001b[0munpack_zerodim_and_defer\u001b[0m\u001b[0;34m(\u001b[0m\u001b[0;34m\"__lt__\"\u001b[0m\u001b[0;34m)\u001b[0m\u001b[0;34m\u001b[0m\u001b[0;34m\u001b[0m\u001b[0m\n",
            "\u001b[0;32m/usr/local/lib/python3.11/dist-packages/pandas/core/frame.py\u001b[0m in \u001b[0;36m_cmp_method\u001b[0;34m(self, other, op)\u001b[0m\n\u001b[1;32m   7895\u001b[0m         \u001b[0maxis\u001b[0m\u001b[0;34m:\u001b[0m \u001b[0mLiteral\u001b[0m\u001b[0;34m[\u001b[0m\u001b[0;36m1\u001b[0m\u001b[0;34m]\u001b[0m \u001b[0;34m=\u001b[0m \u001b[0;36m1\u001b[0m  \u001b[0;31m# only relevant for Series other case\u001b[0m\u001b[0;34m\u001b[0m\u001b[0;34m\u001b[0m\u001b[0m\n\u001b[1;32m   7896\u001b[0m \u001b[0;34m\u001b[0m\u001b[0m\n\u001b[0;32m-> 7897\u001b[0;31m         \u001b[0mself\u001b[0m\u001b[0;34m,\u001b[0m \u001b[0mother\u001b[0m \u001b[0;34m=\u001b[0m \u001b[0mself\u001b[0m\u001b[0;34m.\u001b[0m\u001b[0m_align_for_op\u001b[0m\u001b[0;34m(\u001b[0m\u001b[0mother\u001b[0m\u001b[0;34m,\u001b[0m \u001b[0maxis\u001b[0m\u001b[0;34m,\u001b[0m \u001b[0mflex\u001b[0m\u001b[0;34m=\u001b[0m\u001b[0;32mFalse\u001b[0m\u001b[0;34m,\u001b[0m \u001b[0mlevel\u001b[0m\u001b[0;34m=\u001b[0m\u001b[0;32mNone\u001b[0m\u001b[0;34m)\u001b[0m\u001b[0;34m\u001b[0m\u001b[0;34m\u001b[0m\u001b[0m\n\u001b[0m\u001b[1;32m   7898\u001b[0m \u001b[0;34m\u001b[0m\u001b[0m\n\u001b[1;32m   7899\u001b[0m         \u001b[0;31m# See GH#4537 for discussion of scalar op behavior\u001b[0m\u001b[0;34m\u001b[0m\u001b[0;34m\u001b[0m\u001b[0m\n",
            "\u001b[0;32m/usr/local/lib/python3.11/dist-packages/pandas/core/frame.py\u001b[0m in \u001b[0;36m_align_for_op\u001b[0;34m(self, other, axis, flex, level)\u001b[0m\n\u001b[1;32m   8203\u001b[0m             \u001b[0;32mif\u001b[0m \u001b[0;32mnot\u001b[0m \u001b[0mflex\u001b[0m\u001b[0;34m:\u001b[0m\u001b[0;34m\u001b[0m\u001b[0;34m\u001b[0m\u001b[0m\n\u001b[1;32m   8204\u001b[0m                 \u001b[0;32mif\u001b[0m \u001b[0;32mnot\u001b[0m \u001b[0mleft\u001b[0m\u001b[0;34m.\u001b[0m\u001b[0maxes\u001b[0m\u001b[0;34m[\u001b[0m\u001b[0maxis\u001b[0m\u001b[0;34m]\u001b[0m\u001b[0;34m.\u001b[0m\u001b[0mequals\u001b[0m\u001b[0;34m(\u001b[0m\u001b[0mright\u001b[0m\u001b[0;34m.\u001b[0m\u001b[0mindex\u001b[0m\u001b[0;34m)\u001b[0m\u001b[0;34m:\u001b[0m\u001b[0;34m\u001b[0m\u001b[0;34m\u001b[0m\u001b[0m\n\u001b[0;32m-> 8205\u001b[0;31m                     raise ValueError(\n\u001b[0m\u001b[1;32m   8206\u001b[0m                         \u001b[0;34m\"Operands are not aligned. Do \"\u001b[0m\u001b[0;34m\u001b[0m\u001b[0;34m\u001b[0m\u001b[0m\n\u001b[1;32m   8207\u001b[0m                         \u001b[0;34m\"`left, right = left.align(right, axis=1, copy=False)` \"\u001b[0m\u001b[0;34m\u001b[0m\u001b[0;34m\u001b[0m\u001b[0m\n",
            "\u001b[0;31mValueError\u001b[0m: Operands are not aligned. Do `left, right = left.align(right, axis=1, copy=False)` before operating."
          ]
        }
      ]
    },
    {
      "cell_type": "code",
      "source": [
        "# Definimos una función de interpolación para los factores de campo cuadrados\n",
        "fun_interp = interp1d(Xs, OF_0_6X_sqs, kind='cubic', fill_value='extrapolate')\n",
        "\n",
        "# Campo cuadrado equivalente con los campos rectangulares y sus medidas reales:\n",
        "rect_data = OF_0_6X_df[OF_0_6X_df['X'] != OF_0_6X_df['Y']]  # Filtramos los datos rectangulares\n",
        "Xr = np.array(rect_data['X']) / 2  # Hemicampos de los rectangulares\n",
        "Yr = np.array(rect_data['Y']) / 2  # Hemicampos de los rectangulares\n",
        "OF_0_real = np.array(rect_data['OF_0'])  # Factores de campo reales\n",
        "\n",
        "# Calculamos el tamaño del campo cuadrado equivalente para cada campo rectangular\n",
        "Xceq = X_c(Xr, Yr)\n",
        "\n",
        "# Estimamos el OF_0 interpolado como cuadrados equivalentes:\n",
        "OF_0_est = fun_interp(Xceq)\n",
        "\n",
        "# Representamos los datos reales y los interpolados\n",
        "fig, ax = plt.subplots(figsize=(4.5, 4.5))\n",
        "ax.plot(Xceq * 2, OF_0_real, 'k.', label='Datos reales rectangulares')  # Datos reales\n",
        "ax.plot(Xceq * 2, OF_0_est, 'k--', label='Interpolación desde cuadrados')  # Interpolación\n",
        "ax.set_xlabel('Tamaño campo cuadrado equivalente [cm]')\n",
        "ax.set_ylabel(r'$OF_0$')\n",
        "ax.legend()\n",
        "plt.show()\n",
        "\n",
        "# Finalmente, calculamos y representamos el error relativo\n",
        "fig, ax = plt.subplots(figsize=(4.5, 4.5))\n",
        "ax.plot(Xceq * 2, 100 * (OF_0_est / OF_0_real - 1), 'k.-')  # Error relativo en %\n",
        "ax.axhline(0, color='gray', linestyle='--')  # Línea horizontal en 0\n",
        "ax.set_xlabel('Tamaño campo cuadrado equivalente [cm]')\n",
        "ax.set_ylabel('Error relativo [%]')\n",
        "plt.show()\n"
      ],
      "metadata": {
        "colab": {
          "base_uri": "https://localhost:8080/",
          "height": 547
        },
        "id": "m6PmgKU8HBBq",
        "outputId": "ec183536-02b3-40fe-872f-b4963cfaa8e6"
      },
      "execution_count": 15,
      "outputs": [
        {
          "output_type": "error",
          "ename": "KeyError",
          "evalue": "'X'",
          "traceback": [
            "\u001b[0;31m---------------------------------------------------------------------------\u001b[0m",
            "\u001b[0;31mKeyError\u001b[0m                                  Traceback (most recent call last)",
            "\u001b[0;32m/usr/local/lib/python3.11/dist-packages/pandas/core/indexes/base.py\u001b[0m in \u001b[0;36mget_loc\u001b[0;34m(self, key)\u001b[0m\n\u001b[1;32m   3804\u001b[0m         \u001b[0;32mtry\u001b[0m\u001b[0;34m:\u001b[0m\u001b[0;34m\u001b[0m\u001b[0;34m\u001b[0m\u001b[0m\n\u001b[0;32m-> 3805\u001b[0;31m             \u001b[0;32mreturn\u001b[0m \u001b[0mself\u001b[0m\u001b[0;34m.\u001b[0m\u001b[0m_engine\u001b[0m\u001b[0;34m.\u001b[0m\u001b[0mget_loc\u001b[0m\u001b[0;34m(\u001b[0m\u001b[0mcasted_key\u001b[0m\u001b[0;34m)\u001b[0m\u001b[0;34m\u001b[0m\u001b[0;34m\u001b[0m\u001b[0m\n\u001b[0m\u001b[1;32m   3806\u001b[0m         \u001b[0;32mexcept\u001b[0m \u001b[0mKeyError\u001b[0m \u001b[0;32mas\u001b[0m \u001b[0merr\u001b[0m\u001b[0;34m:\u001b[0m\u001b[0;34m\u001b[0m\u001b[0;34m\u001b[0m\u001b[0m\n",
            "\u001b[0;32mindex.pyx\u001b[0m in \u001b[0;36mpandas._libs.index.IndexEngine.get_loc\u001b[0;34m()\u001b[0m\n",
            "\u001b[0;32mindex.pyx\u001b[0m in \u001b[0;36mpandas._libs.index.IndexEngine.get_loc\u001b[0;34m()\u001b[0m\n",
            "\u001b[0;32mpandas/_libs/hashtable_class_helper.pxi\u001b[0m in \u001b[0;36mpandas._libs.hashtable.PyObjectHashTable.get_item\u001b[0;34m()\u001b[0m\n",
            "\u001b[0;32mpandas/_libs/hashtable_class_helper.pxi\u001b[0m in \u001b[0;36mpandas._libs.hashtable.PyObjectHashTable.get_item\u001b[0;34m()\u001b[0m\n",
            "\u001b[0;31mKeyError\u001b[0m: 'X'",
            "\nThe above exception was the direct cause of the following exception:\n",
            "\u001b[0;31mKeyError\u001b[0m                                  Traceback (most recent call last)",
            "\u001b[0;32m<ipython-input-15-e021e9adbbef>\u001b[0m in \u001b[0;36m<cell line: 0>\u001b[0;34m()\u001b[0m\n\u001b[1;32m      3\u001b[0m \u001b[0;34m\u001b[0m\u001b[0m\n\u001b[1;32m      4\u001b[0m \u001b[0;31m# Campo cuadrado equivalente con los campos rectangulares y sus medidas reales:\u001b[0m\u001b[0;34m\u001b[0m\u001b[0;34m\u001b[0m\u001b[0m\n\u001b[0;32m----> 5\u001b[0;31m \u001b[0mrect_data\u001b[0m \u001b[0;34m=\u001b[0m \u001b[0mOF_0_6X_df\u001b[0m\u001b[0;34m[\u001b[0m\u001b[0mOF_0_6X_df\u001b[0m\u001b[0;34m[\u001b[0m\u001b[0;34m'X'\u001b[0m\u001b[0;34m]\u001b[0m \u001b[0;34m!=\u001b[0m \u001b[0mOF_0_6X_df\u001b[0m\u001b[0;34m[\u001b[0m\u001b[0;34m'Y'\u001b[0m\u001b[0;34m]\u001b[0m\u001b[0;34m]\u001b[0m  \u001b[0;31m# Filtramos los datos rectangulares\u001b[0m\u001b[0;34m\u001b[0m\u001b[0;34m\u001b[0m\u001b[0m\n\u001b[0m\u001b[1;32m      6\u001b[0m \u001b[0mXr\u001b[0m \u001b[0;34m=\u001b[0m \u001b[0mnp\u001b[0m\u001b[0;34m.\u001b[0m\u001b[0marray\u001b[0m\u001b[0;34m(\u001b[0m\u001b[0mrect_data\u001b[0m\u001b[0;34m[\u001b[0m\u001b[0;34m'X'\u001b[0m\u001b[0;34m]\u001b[0m\u001b[0;34m)\u001b[0m \u001b[0;34m/\u001b[0m \u001b[0;36m2\u001b[0m  \u001b[0;31m# Hemicampos de los rectangulares\u001b[0m\u001b[0;34m\u001b[0m\u001b[0;34m\u001b[0m\u001b[0m\n\u001b[1;32m      7\u001b[0m \u001b[0mYr\u001b[0m \u001b[0;34m=\u001b[0m \u001b[0mnp\u001b[0m\u001b[0;34m.\u001b[0m\u001b[0marray\u001b[0m\u001b[0;34m(\u001b[0m\u001b[0mrect_data\u001b[0m\u001b[0;34m[\u001b[0m\u001b[0;34m'Y'\u001b[0m\u001b[0;34m]\u001b[0m\u001b[0;34m)\u001b[0m \u001b[0;34m/\u001b[0m \u001b[0;36m2\u001b[0m  \u001b[0;31m# Hemicampos de los rectangulares\u001b[0m\u001b[0;34m\u001b[0m\u001b[0;34m\u001b[0m\u001b[0m\n",
            "\u001b[0;32m/usr/local/lib/python3.11/dist-packages/pandas/core/frame.py\u001b[0m in \u001b[0;36m__getitem__\u001b[0;34m(self, key)\u001b[0m\n\u001b[1;32m   4100\u001b[0m             \u001b[0;32mif\u001b[0m \u001b[0mself\u001b[0m\u001b[0;34m.\u001b[0m\u001b[0mcolumns\u001b[0m\u001b[0;34m.\u001b[0m\u001b[0mnlevels\u001b[0m \u001b[0;34m>\u001b[0m \u001b[0;36m1\u001b[0m\u001b[0;34m:\u001b[0m\u001b[0;34m\u001b[0m\u001b[0;34m\u001b[0m\u001b[0m\n\u001b[1;32m   4101\u001b[0m                 \u001b[0;32mreturn\u001b[0m \u001b[0mself\u001b[0m\u001b[0;34m.\u001b[0m\u001b[0m_getitem_multilevel\u001b[0m\u001b[0;34m(\u001b[0m\u001b[0mkey\u001b[0m\u001b[0;34m)\u001b[0m\u001b[0;34m\u001b[0m\u001b[0;34m\u001b[0m\u001b[0m\n\u001b[0;32m-> 4102\u001b[0;31m             \u001b[0mindexer\u001b[0m \u001b[0;34m=\u001b[0m \u001b[0mself\u001b[0m\u001b[0;34m.\u001b[0m\u001b[0mcolumns\u001b[0m\u001b[0;34m.\u001b[0m\u001b[0mget_loc\u001b[0m\u001b[0;34m(\u001b[0m\u001b[0mkey\u001b[0m\u001b[0;34m)\u001b[0m\u001b[0;34m\u001b[0m\u001b[0;34m\u001b[0m\u001b[0m\n\u001b[0m\u001b[1;32m   4103\u001b[0m             \u001b[0;32mif\u001b[0m \u001b[0mis_integer\u001b[0m\u001b[0;34m(\u001b[0m\u001b[0mindexer\u001b[0m\u001b[0;34m)\u001b[0m\u001b[0;34m:\u001b[0m\u001b[0;34m\u001b[0m\u001b[0;34m\u001b[0m\u001b[0m\n\u001b[1;32m   4104\u001b[0m                 \u001b[0mindexer\u001b[0m \u001b[0;34m=\u001b[0m \u001b[0;34m[\u001b[0m\u001b[0mindexer\u001b[0m\u001b[0;34m]\u001b[0m\u001b[0;34m\u001b[0m\u001b[0;34m\u001b[0m\u001b[0m\n",
            "\u001b[0;32m/usr/local/lib/python3.11/dist-packages/pandas/core/indexes/base.py\u001b[0m in \u001b[0;36mget_loc\u001b[0;34m(self, key)\u001b[0m\n\u001b[1;32m   3810\u001b[0m             ):\n\u001b[1;32m   3811\u001b[0m                 \u001b[0;32mraise\u001b[0m \u001b[0mInvalidIndexError\u001b[0m\u001b[0;34m(\u001b[0m\u001b[0mkey\u001b[0m\u001b[0;34m)\u001b[0m\u001b[0;34m\u001b[0m\u001b[0;34m\u001b[0m\u001b[0m\n\u001b[0;32m-> 3812\u001b[0;31m             \u001b[0;32mraise\u001b[0m \u001b[0mKeyError\u001b[0m\u001b[0;34m(\u001b[0m\u001b[0mkey\u001b[0m\u001b[0;34m)\u001b[0m \u001b[0;32mfrom\u001b[0m \u001b[0merr\u001b[0m\u001b[0;34m\u001b[0m\u001b[0;34m\u001b[0m\u001b[0m\n\u001b[0m\u001b[1;32m   3813\u001b[0m         \u001b[0;32mexcept\u001b[0m \u001b[0mTypeError\u001b[0m\u001b[0;34m:\u001b[0m\u001b[0;34m\u001b[0m\u001b[0;34m\u001b[0m\u001b[0m\n\u001b[1;32m   3814\u001b[0m             \u001b[0;31m# If we have a listlike key, _check_indexing_error will raise\u001b[0m\u001b[0;34m\u001b[0m\u001b[0;34m\u001b[0m\u001b[0m\n",
            "\u001b[0;31mKeyError\u001b[0m: 'X'"
          ]
        }
      ]
    },
    {
      "cell_type": "code",
      "execution_count": 10,
      "metadata": {
        "id": "WoGEqH7tEoIG",
        "colab": {
          "base_uri": "https://localhost:8080/",
          "height": 547
        },
        "outputId": "f16d023d-fce0-4c91-be56-722c41c4ec77"
      },
      "outputs": [
        {
          "output_type": "error",
          "ename": "KeyError",
          "evalue": "'X'",
          "traceback": [
            "\u001b[0;31m---------------------------------------------------------------------------\u001b[0m",
            "\u001b[0;31mKeyError\u001b[0m                                  Traceback (most recent call last)",
            "\u001b[0;32m/usr/local/lib/python3.11/dist-packages/pandas/core/indexes/base.py\u001b[0m in \u001b[0;36mget_loc\u001b[0;34m(self, key)\u001b[0m\n\u001b[1;32m   3804\u001b[0m         \u001b[0;32mtry\u001b[0m\u001b[0;34m:\u001b[0m\u001b[0;34m\u001b[0m\u001b[0;34m\u001b[0m\u001b[0m\n\u001b[0;32m-> 3805\u001b[0;31m             \u001b[0;32mreturn\u001b[0m \u001b[0mself\u001b[0m\u001b[0;34m.\u001b[0m\u001b[0m_engine\u001b[0m\u001b[0;34m.\u001b[0m\u001b[0mget_loc\u001b[0m\u001b[0;34m(\u001b[0m\u001b[0mcasted_key\u001b[0m\u001b[0;34m)\u001b[0m\u001b[0;34m\u001b[0m\u001b[0;34m\u001b[0m\u001b[0m\n\u001b[0m\u001b[1;32m   3806\u001b[0m         \u001b[0;32mexcept\u001b[0m \u001b[0mKeyError\u001b[0m \u001b[0;32mas\u001b[0m \u001b[0merr\u001b[0m\u001b[0;34m:\u001b[0m\u001b[0;34m\u001b[0m\u001b[0;34m\u001b[0m\u001b[0m\n",
            "\u001b[0;32mindex.pyx\u001b[0m in \u001b[0;36mpandas._libs.index.IndexEngine.get_loc\u001b[0;34m()\u001b[0m\n",
            "\u001b[0;32mindex.pyx\u001b[0m in \u001b[0;36mpandas._libs.index.IndexEngine.get_loc\u001b[0;34m()\u001b[0m\n",
            "\u001b[0;32mpandas/_libs/hashtable_class_helper.pxi\u001b[0m in \u001b[0;36mpandas._libs.hashtable.PyObjectHashTable.get_item\u001b[0;34m()\u001b[0m\n",
            "\u001b[0;32mpandas/_libs/hashtable_class_helper.pxi\u001b[0m in \u001b[0;36mpandas._libs.hashtable.PyObjectHashTable.get_item\u001b[0;34m()\u001b[0m\n",
            "\u001b[0;31mKeyError\u001b[0m: 'X'",
            "\nThe above exception was the direct cause of the following exception:\n",
            "\u001b[0;31mKeyError\u001b[0m                                  Traceback (most recent call last)",
            "\u001b[0;32m<ipython-input-10-f7a01086b2ae>\u001b[0m in \u001b[0;36m<cell line: 0>\u001b[0;34m()\u001b[0m\n\u001b[1;32m      4\u001b[0m \u001b[0;31m# factores de campo interpolados\u001b[0m\u001b[0;34m\u001b[0m\u001b[0;34m\u001b[0m\u001b[0m\n\u001b[1;32m      5\u001b[0m \u001b[0;31m# Campo cuadrado equivalente con los campos rectangulares y sus medidas reales:\u001b[0m\u001b[0;34m\u001b[0m\u001b[0;34m\u001b[0m\u001b[0m\n\u001b[0;32m----> 6\u001b[0;31m \u001b[0mrect_data\u001b[0m \u001b[0;34m=\u001b[0m \u001b[0mOF_0_6X_df\u001b[0m\u001b[0;34m[\u001b[0m\u001b[0mOF_0_6X_df\u001b[0m\u001b[0;34m[\u001b[0m\u001b[0;34m'X'\u001b[0m\u001b[0;34m]\u001b[0m\u001b[0;34m!=\u001b[0m\u001b[0mOF_0_6X_df\u001b[0m\u001b[0;34m[\u001b[0m\u001b[0;34m'Y'\u001b[0m\u001b[0;34m]\u001b[0m\u001b[0;34m]\u001b[0m\u001b[0;34m\u001b[0m\u001b[0;34m\u001b[0m\u001b[0m\n\u001b[0m\u001b[1;32m      7\u001b[0m \u001b[0mXr\u001b[0m \u001b[0;34m=\u001b[0m \u001b[0mnp\u001b[0m\u001b[0;34m.\u001b[0m\u001b[0marray\u001b[0m\u001b[0;34m(\u001b[0m\u001b[0mrect_data\u001b[0m\u001b[0;34m[\u001b[0m\u001b[0;34m'X'\u001b[0m\u001b[0;34m]\u001b[0m\u001b[0;34m)\u001b[0m\u001b[0;34m/\u001b[0m\u001b[0;36m2\u001b[0m\u001b[0;34m\u001b[0m\u001b[0;34m\u001b[0m\u001b[0m\n\u001b[1;32m      8\u001b[0m \u001b[0mYr\u001b[0m \u001b[0;34m=\u001b[0m \u001b[0mnp\u001b[0m\u001b[0;34m.\u001b[0m\u001b[0marray\u001b[0m\u001b[0;34m(\u001b[0m\u001b[0mrect_data\u001b[0m\u001b[0;34m[\u001b[0m\u001b[0;34m'Y'\u001b[0m\u001b[0;34m]\u001b[0m\u001b[0;34m)\u001b[0m\u001b[0;34m/\u001b[0m\u001b[0;36m2\u001b[0m\u001b[0;34m\u001b[0m\u001b[0;34m\u001b[0m\u001b[0m\n",
            "\u001b[0;32m/usr/local/lib/python3.11/dist-packages/pandas/core/frame.py\u001b[0m in \u001b[0;36m__getitem__\u001b[0;34m(self, key)\u001b[0m\n\u001b[1;32m   4100\u001b[0m             \u001b[0;32mif\u001b[0m \u001b[0mself\u001b[0m\u001b[0;34m.\u001b[0m\u001b[0mcolumns\u001b[0m\u001b[0;34m.\u001b[0m\u001b[0mnlevels\u001b[0m \u001b[0;34m>\u001b[0m \u001b[0;36m1\u001b[0m\u001b[0;34m:\u001b[0m\u001b[0;34m\u001b[0m\u001b[0;34m\u001b[0m\u001b[0m\n\u001b[1;32m   4101\u001b[0m                 \u001b[0;32mreturn\u001b[0m \u001b[0mself\u001b[0m\u001b[0;34m.\u001b[0m\u001b[0m_getitem_multilevel\u001b[0m\u001b[0;34m(\u001b[0m\u001b[0mkey\u001b[0m\u001b[0;34m)\u001b[0m\u001b[0;34m\u001b[0m\u001b[0;34m\u001b[0m\u001b[0m\n\u001b[0;32m-> 4102\u001b[0;31m             \u001b[0mindexer\u001b[0m \u001b[0;34m=\u001b[0m \u001b[0mself\u001b[0m\u001b[0;34m.\u001b[0m\u001b[0mcolumns\u001b[0m\u001b[0;34m.\u001b[0m\u001b[0mget_loc\u001b[0m\u001b[0;34m(\u001b[0m\u001b[0mkey\u001b[0m\u001b[0;34m)\u001b[0m\u001b[0;34m\u001b[0m\u001b[0;34m\u001b[0m\u001b[0m\n\u001b[0m\u001b[1;32m   4103\u001b[0m             \u001b[0;32mif\u001b[0m \u001b[0mis_integer\u001b[0m\u001b[0;34m(\u001b[0m\u001b[0mindexer\u001b[0m\u001b[0;34m)\u001b[0m\u001b[0;34m:\u001b[0m\u001b[0;34m\u001b[0m\u001b[0;34m\u001b[0m\u001b[0m\n\u001b[1;32m   4104\u001b[0m                 \u001b[0mindexer\u001b[0m \u001b[0;34m=\u001b[0m \u001b[0;34m[\u001b[0m\u001b[0mindexer\u001b[0m\u001b[0;34m]\u001b[0m\u001b[0;34m\u001b[0m\u001b[0;34m\u001b[0m\u001b[0m\n",
            "\u001b[0;32m/usr/local/lib/python3.11/dist-packages/pandas/core/indexes/base.py\u001b[0m in \u001b[0;36mget_loc\u001b[0;34m(self, key)\u001b[0m\n\u001b[1;32m   3810\u001b[0m             ):\n\u001b[1;32m   3811\u001b[0m                 \u001b[0;32mraise\u001b[0m \u001b[0mInvalidIndexError\u001b[0m\u001b[0;34m(\u001b[0m\u001b[0mkey\u001b[0m\u001b[0;34m)\u001b[0m\u001b[0;34m\u001b[0m\u001b[0;34m\u001b[0m\u001b[0m\n\u001b[0;32m-> 3812\u001b[0;31m             \u001b[0;32mraise\u001b[0m \u001b[0mKeyError\u001b[0m\u001b[0;34m(\u001b[0m\u001b[0mkey\u001b[0m\u001b[0;34m)\u001b[0m \u001b[0;32mfrom\u001b[0m \u001b[0merr\u001b[0m\u001b[0;34m\u001b[0m\u001b[0;34m\u001b[0m\u001b[0m\n\u001b[0m\u001b[1;32m   3813\u001b[0m         \u001b[0;32mexcept\u001b[0m \u001b[0mTypeError\u001b[0m\u001b[0;34m:\u001b[0m\u001b[0;34m\u001b[0m\u001b[0;34m\u001b[0m\u001b[0m\n\u001b[1;32m   3814\u001b[0m             \u001b[0;31m# If we have a listlike key, _check_indexing_error will raise\u001b[0m\u001b[0;34m\u001b[0m\u001b[0;34m\u001b[0m\u001b[0m\n",
            "\u001b[0;31mKeyError\u001b[0m: 'X'"
          ]
        }
      ],
      "source": [
        "# Definimos una función de interpolación para los factores de campo cuadrados\n",
        "fun_interp = interp1d(Xs, OF_0_6X_sqs, kind='cubic', fill_value='extrapolate')\n",
        "# Generamos algunas dimensiones de campo cuadrado equivalente y sus correspondientes\n",
        "# factores de campo interpolados\n",
        "# Campo cuadrado equivalente con los campos rectangulares y sus medidas reales:\n",
        "rect_data = OF_0_6X_df[OF_0_6X_df['X']!=OF_0_6X_df['Y']]\n",
        "Xr = np.array(rect_data['X'])/2\n",
        "Yr = np.array(rect_data['Y'])/2\n",
        "OF_0_real = np.array(rect_data['OF_0'])\n",
        "\n",
        "Xceq = X_c(Xr, Yr)\n",
        "\n",
        "# Estimamos el OF_0 interpolado como cuadrados equivalentes:\n",
        "OF_0_est = fun_interp(Xceq)\n",
        "\n",
        "# Representamos:\n",
        "fig, ax = plt.subplots(figsize=(4.5, 4.5))\n",
        "ax.plot(Xceq*2, OF_0_real, 'k.', label='Datos reales rectangulares')\n",
        "ax.plot(Xceq*2, OF_0_est, 'k--', label='Interpolación desde cuadrados')\n",
        "ax.set_xlabel('Tamaño campo cuadrado equivalente [cm]')\n",
        "ax.set_ylabel(r'$OF_0$')\n",
        "ax.legend()\n",
        "plt.show()\n",
        "\n",
        "# Finalmente, el error relativo:\n",
        "fig, ax = plt.subplots(figsize=(4.5, 4.5))\n",
        "ax.plot(Xceq*2, 100*(OF_0_est/OF_0_real-1), 'k.-')\n",
        "ax.axhline(0, color='gray', linestyle='--')\n",
        "ax.set_xlabel('Tamaño campo cuadrado equivalente [cm]')\n",
        "ax.set_ylabel('Error relativo [%]')\n",
        "plt.show()"
      ]
    },
    {
      "cell_type": "markdown",
      "metadata": {
        "id": "9hJQMOff4ncd"
      },
      "source": [
        "Representamos gráficamente y comprobamos la equivalencia"
      ]
    },
    {
      "cell_type": "markdown",
      "metadata": {
        "id": "BUUujdYFZdmp"
      },
      "source": [
        "### Cuestión\n",
        "Mostrar que no es posible ajustar las medidas mediante un modelo de una única fuente"
      ]
    },
    {
      "cell_type": "code",
      "execution_count": null,
      "metadata": {
        "id": "KZZnf5uQZuH7"
      },
      "outputs": [],
      "source": []
    },
    {
      "cell_type": "markdown",
      "metadata": {
        "id": "iZJMUFOyZU47"
      },
      "source": [
        "### Cuestión\n",
        "\n",
        "Ajustar las medidas del factor de campo en aire $OF_0$ para campos cuadrados mediante un modelo de doble fuente basado en cuatro parámetros utilizando la aproximación de campos circulares equivalentes\n",
        "\n",
        "$$\n",
        "  OF_0(L) = I_1\\cdot \\left(1-e^{-L^2/b_1}\\right) + I_2\\cdot \\left(1-e^{-L^2/b_2}\\right)\n",
        "$$\n",
        "\n",
        "donde $L$ es el lado del campo cuadrado, $I_1$ la intensidad de la fuente primaria, $b_1$ un parámetro relacionado con el tamaño de la fuente primaria, $I_2$ la intensidad de la fuente secundaria, $b_2$ un parámetro relacionado con el tamaño de la fuente secundaria.\n",
        "\n",
        "#### Ayuda\n",
        "\n",
        "Para realizar los ajustes se recomienda utilizar el paquete [lmfit](https://lmfit.github.io/lmfit-py/)\n",
        "(Non-Linear Least-Squares Minimization and Curve-Fitting for Python) una interfaz de alto nivel para resolver problemas de ajuste de curvas y optimización no lineal en python. Su uso básico es relativamente simple. Basta con definir la función de ajuste con sus variables independientes y los parámetros de ajuste también como variables. A partir de esta función se crea un **modelo** de ajuste como una instancia de la clase `Model`. Este objeto tiene todos los métodos para realizar el ajuste y evaluar el resultado. Los parámetros del modelo se pueden introducir directamente o creando una instancia del objeto 'Parameters' si se necesita tener más control sobre ellos."
      ]
    },
    {
      "cell_type": "code",
      "execution_count": null,
      "metadata": {
        "id": "aVzaC6RiSl_2"
      },
      "outputs": [],
      "source": [
        "from lmfit import Model, Parameters"
      ]
    },
    {
      "cell_type": "markdown",
      "metadata": {
        "id": "my4qSQOXczGO"
      },
      "source": [
        "#### Modelo de doble fuente"
      ]
    },
    {
      "cell_type": "code",
      "execution_count": null,
      "metadata": {
        "id": "OLkRXb3BSs8F"
      },
      "outputs": [],
      "source": [
        "def OF_0_2src_f(L, I1, b1, I2, b2):\n",
        "  '''\n",
        "  Función que representa el factor de campo en aire para campos cuadrados\n",
        "  L: lado del campo cuadrado\n",
        "  I1: intensidad de la fuente primaria\n",
        "  b1: parámetro relacionado con el tamaño de la fuente primaria\n",
        "  I2: intensidad de la fuente secundaria\n",
        "  b2: parámetro relacionado con el tamaño de la fuente secundaria\n",
        "  '''\n",
        "  return I1 * (1 - np.exp(-L**2 / b1)) + I2 * (1 - np.exp(-L**2 / b2))\n",
        "\n",
        "double_source_model = Model(OF_0_2src_f)"
      ]
    },
    {
      "cell_type": "code",
      "execution_count": null,
      "metadata": {
        "id": "QmFmA2CXS3kK"
      },
      "outputs": [],
      "source": [
        "# Ajustamos. Introducimos los parámetros directamente dando un valor inicial\n",
        "double_source_result = double_source_model.fit(OF_0_6X_sqs, L=OF_0_6X_df.Y, I1=0.9, b1=2, I2=0.1, b2=20)\n",
        "\n",
        "# Obtenemos la función de ajuste particularizada para nuestros parámetros de ajuste\n",
        "def OF_0_2src_sq_fit(L):\n",
        "  return double_source_model.eval(double_source_result.params, L=L)\n",
        "\n",
        "# Valores de X con mayor densidad para la gráfica del ajuste\n",
        "Xis = np.linspace(Xs[0], Xs[-1], 1000)\n",
        "\n",
        "# Representamos gráficamente\n",
        "fig, ax = plt.subplots(figsize=(4.5, 4.5))\n",
        "ax.plot(Xs, OF_0_6X_sqs, 'k.')\n",
        "ax.plot(Xis, OF_0_2src_sq_fit(L=Xis), 'k-')\n",
        "ax.set_xlabel(r'$X$')\n",
        "ax.set_ylabel(r'$OF_0$')\n",
        "\n",
        "double_source_result\n"
      ]
    },
    {
      "cell_type": "markdown",
      "metadata": {
        "id": "AOSBOOYLYMqW"
      },
      "source": [
        "### Cuestión\n",
        "\n",
        "Estudiar cuál de los siguientes modelos describe mejor los $OF_0$ para campos cuadrados.\n",
        "\n",
        "Para realizar el ajuste utilizar solo los datos de $OF_0$ medidos en 6 MV `OF_0_6X_sqs` de campos cuadrados de lado `Xs`\n",
        "\n",
        "#### Modelo de doble fuente con distinción de $X, Y$\n",
        "\n",
        "$$\n",
        "  OF_0(X,Y,I_1,I_2,s,t,u,v) = I_1\\cdot \\operatorname{erf}\\left(\\frac{X}{s}\\right)\\cdot\\operatorname{erf}\\left(\\frac{Y}{t}\\right) + I_2\\cdot \\operatorname{erf}\\left(\\frac{X}{u}\\right)\\cdot\\operatorname{erf}\\left(\\frac{Y}{v}\\right)\n",
        "$$\n",
        "\n",
        "Este modelo considera dos fuentes gaussianas de distinto tamaño efectivo. Además se considera que el tamaño de cada fuente visto desde el punto de medida cambia por la diferente distancia entre cada par de mordazas y la fuente.\n",
        "\n",
        "#### Modelo de doble fuente con distinción de $X, Y$ para la segunda fuente\n",
        "\n",
        "$$\n",
        "  OF_0(X,Y,I_1,I_2,s,t,u) = I_1\\cdot \\operatorname{erf}\\left(\\frac{X}{s}\\right)\\cdot\\operatorname{erf}\\left(\\frac{Y}{s}\\right) + I_2\\cdot \\operatorname{erf}\\left(\\frac{X}{t}\\right)\\cdot\\operatorname{erf}\\left(\\frac{Y}{u}\\right)\n",
        "$$\n",
        "\n",
        "Aquí se consideran dos fuentes gaussianas de diferente tamaño, pero el efecto de la distancia a cada par de mordazas solo afecta apreciablemente a la fuente secundaria por ser la que está más cerca de estas.\n",
        "\n",
        "- Considerando la regularización del modelo, ¿cuál de los dos modelos es más adecuado para el ajuste?\n",
        "- Centrándonos en el modelo más adecuado, existe algún parámetro que se haya determinado con una incertidumbre inasumible.\n",
        "- **Avanzado**: ¿De dónde proviene esa incertidumbre si aparentemente los resultados del modelo son buenos? Proponer alguna regularización adicional que reduzca la incertidumbre del parámetro."
      ]
    },
    {
      "cell_type": "code",
      "execution_count": null,
      "metadata": {
        "id": "SsL7rNuhe7RZ"
      },
      "outputs": [],
      "source": []
    }
  ],
  "metadata": {
    "colab": {
      "provenance": []
    },
    "kernelspec": {
      "display_name": "Python 3",
      "name": "python3"
    }
  },
  "nbformat": 4,
  "nbformat_minor": 0
}